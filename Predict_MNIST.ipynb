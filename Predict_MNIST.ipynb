{
  "nbformat": 4,
  "nbformat_minor": 0,
  "metadata": {
    "colab": {
      "provenance": [],
      "authorship_tag": "ABX9TyOqxyiH75n2xFwN4g26uOl2",
      "include_colab_link": true
    },
    "kernelspec": {
      "name": "python3",
      "display_name": "Python 3"
    },
    "language_info": {
      "name": "python"
    }
  },
  "cells": [
    {
      "cell_type": "markdown",
      "metadata": {
        "id": "view-in-github",
        "colab_type": "text"
      },
      "source": [
        "<a href=\"https://colab.research.google.com/github/Praveer1981/DeepLearning_TF/blob/main/Predict_MNIST.ipynb\" target=\"_parent\"><img src=\"https://colab.research.google.com/assets/colab-badge.svg\" alt=\"Open In Colab\"/></a>"
      ]
    },
    {
      "cell_type": "code",
      "execution_count": 118,
      "metadata": {
        "id": "emW_oYOtVLcE"
      },
      "outputs": [],
      "source": [
        "# import tensorflow, keras,  matplotlib library\n",
        "import tensorflow as tf\n",
        "from tensorflow import keras\n",
        "import matplotlib.pyplot as plt\n",
        "import numpy as np\n",
        "import pandas as pd\n",
        "import seaborn as sns\n",
        "\n"
      ]
    },
    {
      "cell_type": "code",
      "source": [
        "# load dataset\n",
        "# reference :https://keras.io/api/datasets/\n",
        "(x_train, y_train), (x_test, y_test) = keras.datasets.mnist.load_data()"
      ],
      "metadata": {
        "id": "gSfnwrGrWC2i"
      },
      "execution_count": null,
      "outputs": []
    },
    {
      "cell_type": "code",
      "source": [
        "x_train.shape # there are 60k training data and the image is 32x32 pixel"
      ],
      "metadata": {
        "id": "jvLH9RsNWoJX"
      },
      "execution_count": null,
      "outputs": []
    },
    {
      "cell_type": "code",
      "source": [],
      "metadata": {
        "id": "kKe82GZmX3jq"
      },
      "execution_count": null,
      "outputs": []
    },
    {
      "cell_type": "code",
      "source": [
        "# plot few of the images of the numbers of the training dataset\n",
        "plt.figure(figsize=(8, 8))\n",
        "for i in range(4):\n",
        "  plt.subplot(5, 2, i+1)\n",
        "  plt.imshow(x_train[i], cmap='gray')\n",
        "  plt.title('Class: ' + str(y_train[i]))\n",
        "plt.show()\n"
      ],
      "metadata": {
        "id": "laVc8GWuWoGl"
      },
      "execution_count": null,
      "outputs": []
    },
    {
      "cell_type": "code",
      "source": [
        "# create the model\n",
        "# reference https://www.tensorflow.org/api_docs/python/tf/keras/Sequential\n",
        "# reference https://www.tensorflow.org/api_docs/python/tf/keras/Sequential\n",
        "model = tf.keras.Sequential([\n",
        "        tf.keras.layers.Flatten(input_shape=(28, 28)),\n",
        "        tf.keras.layers.Dense(10, activation=tf.nn.relu),  # input shape required\n",
        "        tf.keras.layers.Dense(10, activation=tf.nn.sigmoid),\n",
        "        # tf.keras.layers.Dense(10)\n",
        "])"
      ],
      "metadata": {
        "id": "EX9fLQOiYaxu"
      },
      "execution_count": null,
      "outputs": []
    },
    {
      "cell_type": "code",
      "source": [
        "# compile the model\n",
        "# reference\n",
        "# reference https://www.tensorflow.org/api_docs/python/tf/keras/optimizers\n",
        "# reference https://www.tensorflow.org/api_docs/python/tf/keras/losses\n",
        "# reference https://www.tensorflow.org/api_docs/python/tf/keras/metrics\n",
        "\n",
        "model.compile(\n",
        "      optimizer= 'adam',\n",
        "      loss= 'SparseCategoricalCrossentropy',\n",
        "      metrics= ['accuracy']\n",
        ");"
      ],
      "metadata": {
        "id": "L9hZDnTeYavQ"
      },
      "execution_count": null,
      "outputs": []
    },
    {
      "cell_type": "code",
      "source": [
        "model.fit(x_train,y_train, epochs=5)\n",
        "# here in the result we can see that the accuracy is not good, let's scale down the input data"
      ],
      "metadata": {
        "colab": {
          "base_uri": "https://localhost:8080/"
        },
        "id": "NWE9qibmYasj",
        "outputId": "8c802179-0c06-413b-f5d3-4b9d80c5b67d"
      },
      "execution_count": 102,
      "outputs": [
        {
          "output_type": "stream",
          "name": "stdout",
          "text": [
            "Epoch 1/5\n",
            "1875/1875 [==============================] - 5s 2ms/step - loss: 2.1233 - accuracy: 0.0988\n",
            "Epoch 2/5\n",
            "1875/1875 [==============================] - 3s 2ms/step - loss: 1.8244 - accuracy: 0.0987\n",
            "Epoch 3/5\n",
            "1875/1875 [==============================] - 4s 2ms/step - loss: 1.6922 - accuracy: 0.0987\n",
            "Epoch 4/5\n",
            "1875/1875 [==============================] - 4s 2ms/step - loss: 1.6376 - accuracy: 0.0988\n",
            "Epoch 5/5\n",
            "1875/1875 [==============================] - 3s 2ms/step - loss: 1.5892 - accuracy: 0.1009\n"
          ]
        },
        {
          "output_type": "execute_result",
          "data": {
            "text/plain": [
              "<keras.src.callbacks.History at 0x7e47601ead10>"
            ]
          },
          "metadata": {},
          "execution_count": 102
        }
      ]
    },
    {
      "cell_type": "code",
      "source": [
        "x_train = x_train / 255\n",
        "x_test = x_test / 255"
      ],
      "metadata": {
        "id": "crpy6AWzWoEN"
      },
      "execution_count": 103,
      "outputs": []
    },
    {
      "cell_type": "code",
      "source": [
        "model.fit(x_train,y_train, epochs=5) # this time is better and reached to 92%"
      ],
      "metadata": {
        "colab": {
          "base_uri": "https://localhost:8080/"
        },
        "id": "59TNPLagWoB3",
        "outputId": "47ca333c-432e-43f6-8c38-c0cd889ec1fa"
      },
      "execution_count": 104,
      "outputs": [
        {
          "output_type": "stream",
          "name": "stdout",
          "text": [
            "Epoch 1/5\n",
            "1875/1875 [==============================] - 5s 2ms/step - loss: 0.8698 - accuracy: 0.7312\n",
            "Epoch 2/5\n",
            "1875/1875 [==============================] - 4s 2ms/step - loss: 0.4177 - accuracy: 0.8834\n",
            "Epoch 3/5\n",
            "1875/1875 [==============================] - 4s 2ms/step - loss: 0.3113 - accuracy: 0.9111\n",
            "Epoch 4/5\n",
            "1875/1875 [==============================] - 7s 4ms/step - loss: 0.2774 - accuracy: 0.9216\n",
            "Epoch 5/5\n",
            "1875/1875 [==============================] - 6s 3ms/step - loss: 0.2611 - accuracy: 0.9267\n"
          ]
        },
        {
          "output_type": "execute_result",
          "data": {
            "text/plain": [
              "<keras.src.callbacks.History at 0x7e476047ef20>"
            ]
          },
          "metadata": {},
          "execution_count": 104
        }
      ]
    },
    {
      "cell_type": "code",
      "source": [
        "# let's evaluate the model on the test data\n",
        "model.evaluate(x_test,y_test) # evaluation accuracy is 92% which  is good, that means our model is not overfitted"
      ],
      "metadata": {
        "colab": {
          "base_uri": "https://localhost:8080/"
        },
        "id": "g1qBRtfXhs9r",
        "outputId": "e63ba4c3-bbe3-4fc1-efd6-269a1faf56e9"
      },
      "execution_count": 105,
      "outputs": [
        {
          "output_type": "stream",
          "name": "stdout",
          "text": [
            "313/313 [==============================] - 1s 2ms/step - loss: 0.2478 - accuracy: 0.9276\n"
          ]
        },
        {
          "output_type": "execute_result",
          "data": {
            "text/plain": [
              "[0.24777217209339142, 0.9276000261306763]"
            ]
          },
          "metadata": {},
          "execution_count": 105
        }
      ]
    },
    {
      "cell_type": "code",
      "source": [
        "y_train[:5] # here we show the first 5 numbers in the ground truth and we can see that at the first position it is 5"
      ],
      "metadata": {
        "colab": {
          "base_uri": "https://localhost:8080/"
        },
        "id": "R3lpGXrLih3Q",
        "outputId": "1683c256-10bd-4875-c468-184ae5e74382"
      },
      "execution_count": 106,
      "outputs": [
        {
          "output_type": "execute_result",
          "data": {
            "text/plain": [
              "array([5, 0, 4, 1, 9], dtype=uint8)"
            ]
          },
          "metadata": {},
          "execution_count": 106
        }
      ]
    },
    {
      "cell_type": "code",
      "source": [
        "plt.matshow(x_train[0]) # Now, let's see what we get at the position in the input data, we got the 5"
      ],
      "metadata": {
        "colab": {
          "base_uri": "https://localhost:8080/",
          "height": 454
        },
        "id": "tP6oMNTFjiv4",
        "outputId": "c1bd499e-ec17-4244-e9b4-2b65fb5cf3b6"
      },
      "execution_count": 107,
      "outputs": [
        {
          "output_type": "execute_result",
          "data": {
            "text/plain": [
              "<matplotlib.image.AxesImage at 0x7e476047ead0>"
            ]
          },
          "metadata": {},
          "execution_count": 107
        },
        {
          "output_type": "display_data",
          "data": {
            "text/plain": [
              "<Figure size 480x480 with 1 Axes>"
            ],
            "image/png": "[encoded data removed]"
          },
          "metadata": {}
        }
      ]
    },
    {
      "cell_type": "code",
      "source": [
        "# now let's see how does our model predict on the test data\n",
        "y_pred = model.predict(x_test)"
      ],
      "metadata": {
        "colab": {
          "base_uri": "https://localhost:8080/"
        },
        "id": "B93_c8CNkXm3",
        "outputId": "7a346c08-6dd6-4f40-f119-2ff4b061fa75"
      },
      "execution_count": 108,
      "outputs": [
        {
          "output_type": "stream",
          "name": "stdout",
          "text": [
            "313/313 [==============================] - 0s 1ms/step\n"
          ]
        }
      ]
    },
    {
      "cell_type": "code",
      "source": [
        "y_pred[:1]\n",
        "# the output shows the value of 10 scores, in the Sequential function we had given value 10, which means that it it what that what is the probability\n",
        "# to be 1 ,2 ,3, ....10 , highest the probaility value better the result"
      ],
      "metadata": {
        "colab": {
          "base_uri": "https://localhost:8080/"
        },
        "id": "POJfCygLk5qb",
        "outputId": "70fdbff7-00bd-4c84-da10-eba6f99a1704"
      },
      "execution_count": 109,
      "outputs": [
        {
          "output_type": "execute_result",
          "data": {
            "text/plain": [
              "array([[2.6162213e-06, 2.4215335e-12, 4.3490136e-06, 8.1364386e-05,\n",
              "        2.0286683e-09, 5.3255184e-07, 1.1336029e-14, 1.8510697e-02,\n",
              "        2.7385124e-07, 8.7148655e-06]], dtype=float32)"
            ]
          },
          "metadata": {},
          "execution_count": 109
        }
      ]
    },
    {
      "cell_type": "code",
      "source": [
        "np.argmax(y_pred[:1]) # wow it says that the highest probability to be 7"
      ],
      "metadata": {
        "colab": {
          "base_uri": "https://localhost:8080/"
        },
        "id": "hKxKaQzIm37c",
        "outputId": "d01fbef0-c615-4c9a-8ea9-835603950cc0"
      },
      "execution_count": 110,
      "outputs": [
        {
          "output_type": "execute_result",
          "data": {
            "text/plain": [
              "7"
            ]
          },
          "metadata": {},
          "execution_count": 110
        }
      ]
    },
    {
      "cell_type": "code",
      "source": [
        "y_test[:1] # it is 7"
      ],
      "metadata": {
        "colab": {
          "base_uri": "https://localhost:8080/"
        },
        "id": "m_7Rg1kRlmLA",
        "outputId": "5ba17159-c04e-4e67-a250-fc735bbc093d"
      },
      "execution_count": 111,
      "outputs": [
        {
          "output_type": "execute_result",
          "data": {
            "text/plain": [
              "array([7], dtype=uint8)"
            ]
          },
          "metadata": {},
          "execution_count": 111
        }
      ]
    },
    {
      "cell_type": "code",
      "source": [
        "plt.matshow(x_test[0]) # Now, let's see what we get at the position in the input data, we got the 7"
      ],
      "metadata": {
        "colab": {
          "base_uri": "https://localhost:8080/",
          "height": 454
        },
        "id": "kiDDO4PNlqkh",
        "outputId": "ba826746-ea06-41d9-9a18-36e3c91e96d7"
      },
      "execution_count": 112,
      "outputs": [
        {
          "output_type": "execute_result",
          "data": {
            "text/plain": [
              "<matplotlib.image.AxesImage at 0x7e4760120730>"
            ]
          },
          "metadata": {},
          "execution_count": 112
        },
        {
          "output_type": "display_data",
          "data": {
            "text/plain": [
              "<Figure size 480x480 with 1 Axes>"
            ],
            "image/png": "[encoded data removed]"
          },
          "metadata": {}
        }
      ]
    },
    {
      "cell_type": "code",
      "source": [
        "y_pred_lab = [np.argmax(i) for i in y_pred]"
      ],
      "metadata": {
        "id": "KxOuQ3MFn5du"
      },
      "execution_count": 113,
      "outputs": []
    },
    {
      "cell_type": "code",
      "source": [
        "# y_pred_lab[0]"
      ],
      "metadata": {
        "colab": {
          "base_uri": "https://localhost:8080/"
        },
        "id": "ls8fkROioyOp",
        "outputId": "18a43798-672e-4281-da29-13ef168ca7ce"
      },
      "execution_count": 116,
      "outputs": [
        {
          "output_type": "execute_result",
          "data": {
            "text/plain": [
              "7"
            ]
          },
          "metadata": {},
          "execution_count": 116
        }
      ]
    },
    {
      "cell_type": "code",
      "source": [
        "# let's ee how does it look like in the confuson matrix\n",
        "# reference https://www.tensorflow.org/api_docs/python/tf/math/confusion_matrix\n",
        "conf_matrix = tf.math.confusion_matrix(labels = y_test, predictions = y_pred_lab)"
      ],
      "metadata": {
        "id": "adPS1vgMWn_L"
      },
      "execution_count": 119,
      "outputs": []
    },
    {
      "cell_type": "code",
      "source": [
        "plt.figure(figsize=(8,8))\n",
        "sns.heatmap(conf_matrix, annot=True, fmt='d')\n",
        "\n",
        "# Adjust spacing to prevent overlapping labels\n",
        "plt.subplots_adjust(bottom=0.2)\n",
        "\n",
        "plt.xlabel='Predictedvalue'\n",
        "plt.ylabel='GroundTruth'\n",
        "plt.show()\n",
        "# here we can see that model has predicted 954 time 0 and the ground truth is also 0. However,\n",
        "#there are 10 ocasion when ground truth was 2 and the predicted value was 0\n",
        "# So, the conclusion is, any values which does not fall in the diagonal is the error"
      ],
      "metadata": {
        "colab": {
          "base_uri": "https://localhost:8080/",
          "height": 604
        },
        "id": "c551JovXhKAs",
        "outputId": "a11e52eb-9f77-4d1c-dd85-c611f309ecc1"
      },
      "execution_count": 128,
      "outputs": [
        {
          "output_type": "display_data",
          "data": {
            "text/plain": [
              "<Figure size 800x800 with 2 Axes>"
            ],
            "image/png": "[encoded data removed]"
          },
          "metadata": {}
        }
      ]
    },
    {
      "cell_type": "code",
      "source": [],
      "metadata": {
        "id": "r1uGyWYnhJ-u"
      },
      "execution_count": null,
      "outputs": []
    },
    {
      "cell_type": "code",
      "source": [],
      "metadata": {
        "id": "FjG7tLdghJ7s"
      },
      "execution_count": null,
      "outputs": []
    }
  ]
}