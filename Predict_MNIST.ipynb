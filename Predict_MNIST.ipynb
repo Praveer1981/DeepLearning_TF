{
  "nbformat": 4,
  "nbformat_minor": 0,
  "metadata": {
    "colab": {
      "provenance": [],
      "authorship_tag": "ABX9TyNVstgYsDDrFnVJd9yi+lqw"
    },
    "kernelspec": {
      "name": "python3",
      "display_name": "Python 3"
    },
    "language_info": {
      "name": "python"
    }
  },
  "cells": [
    {
      "cell_type": "code",
      "execution_count": 144,
      "metadata": {
        "id": "emW_oYOtVLcE"
      },
      "outputs": [],
      "source": [
        "# import tensorflow, keras,  matplotlib library\n",
        "import tensorflow as tf\n",
        "from tensorflow import keras\n",
        "import matplotlib.pyplot as plt\n",
        "import numpy as np\n",
        "import pandas as pd\n",
        "import seaborn as sns\n",
        "\n"
      ]
    },
    {
      "cell_type": "code",
      "source": [
        "# load dataset\n",
        "# reference :https://keras.io/api/datasets/\n",
        "(x_train, y_train), (x_test, y_test) = keras.datasets.mnist.load_data()"
      ],
      "metadata": {
        "id": "gSfnwrGrWC2i"
      },
      "execution_count": 145,
      "outputs": []
    },
    {
      "cell_type": "code",
      "source": [
        "x_train.shape # there are 60k training data and the image is 32x32 pixel"
      ],
      "metadata": {
        "colab": {
          "base_uri": "https://localhost:8080/"
        },
        "id": "jvLH9RsNWoJX",
        "outputId": "bfa899b7-8de7-4316-8153-55d01f6f9a36"
      },
      "execution_count": 146,
      "outputs": [
        {
          "output_type": "execute_result",
          "data": {
            "text/plain": [
              "(60000, 28, 28)"
            ]
          },
          "metadata": {},
          "execution_count": 146
        }
      ]
    },
    {
      "cell_type": "code",
      "source": [],
      "metadata": {
        "id": "kKe82GZmX3jq"
      },
      "execution_count": 146,
      "outputs": []
    },
    {
      "cell_type": "code",
      "source": [
        "# plot few of the images of the numbers of the training dataset\n",
        "plt.figure(figsize=(8, 8))\n",
        "for i in range(4):\n",
        "  plt.subplot(5, 2, i+1)\n",
        "  plt.imshow(x_train[i], cmap='gray')\n",
        "  plt.title('Class: ' + str(y_train[i]))\n",
        "plt.show()\n"
      ],
      "metadata": {
        "colab": {
          "base_uri": "https://localhost:8080/",
          "height": 316
        },
        "id": "laVc8GWuWoGl",
        "outputId": "bbfe7043-fd4b-47b0-a6e4-4d85d2485c51"
      },
      "execution_count": 147,
      "outputs": [
        {
          "output_type": "display_data",
          "data": {
            "text/plain": [
              "<Figure size 800x800 with 4 Axes>"
            ],
            "image/png": "[encoded data removed]"
          },
          "metadata": {}
        }
      ]
    },
    {
      "cell_type": "code",
      "source": [
        "# create the model\n",
        "# reference https://www.tensorflow.org/api_docs/python/tf/keras/Sequential\n",
        "# reference https://www.tensorflow.org/api_docs/python/tf/keras/Sequential\n",
        "model = tf.keras.Sequential([\n",
        "        tf.keras.layers.Flatten(input_shape=(28, 28)),\n",
        "        tf.keras.layers.Dense(10, activation=tf.nn.relu),  # input shape required\n",
        "        tf.keras.layers.Dense(10, activation=tf.nn.sigmoid),\n",
        "        # tf.keras.layers.Dense(10)\n",
        "])"
      ],
      "metadata": {
        "id": "EX9fLQOiYaxu"
      },
      "execution_count": 148,
      "outputs": []
    },
    {
      "cell_type": "code",
      "source": [
        "# compile the model\n",
        "# reference\n",
        "# reference https://www.tensorflow.org/api_docs/python/tf/keras/optimizers\n",
        "# reference https://www.tensorflow.org/api_docs/python/tf/keras/losses\n",
        "# reference https://www.tensorflow.org/api_docs/python/tf/keras/metrics\n",
        "\n",
        "model.compile(\n",
        "      optimizer= 'adam',\n",
        "      loss= 'SparseCategoricalCrossentropy',\n",
        "      metrics= ['accuracy']\n",
        ");"
      ],
      "metadata": {
        "id": "L9hZDnTeYavQ"
      },
      "execution_count": 149,
      "outputs": []
    },
    {
      "cell_type": "code",
      "source": [
        "model.fit(x_train,y_train, epochs=5)\n",
        "# here in the result we can see that the accuracy is not good, let's scale down the input data"
      ],
      "metadata": {
        "colab": {
          "base_uri": "https://localhost:8080/"
        },
        "id": "NWE9qibmYasj",
        "outputId": "ea11cb1b-31a6-41b1-d08c-3dfa2ded88d1"
      },
      "execution_count": 150,
      "outputs": [
        {
          "output_type": "stream",
          "name": "stdout",
          "text": [
            "Epoch 1/5\n",
            "1875/1875 [==============================] - 5s 2ms/step - loss: 2.3362 - accuracy: 0.2658\n",
            "Epoch 2/5\n",
            "1875/1875 [==============================] - 4s 2ms/step - loss: 1.8622 - accuracy: 0.2947\n",
            "Epoch 3/5\n",
            "1875/1875 [==============================] - 5s 3ms/step - loss: 1.6824 - accuracy: 0.3929\n",
            "Epoch 4/5\n",
            "1875/1875 [==============================] - 5s 3ms/step - loss: 1.6155 - accuracy: 0.4265\n",
            "Epoch 5/5\n",
            "1875/1875 [==============================] - 3s 2ms/step - loss: 1.4619 - accuracy: 0.4480\n"
          ]
        },
        {
          "output_type": "execute_result",
          "data": {
            "text/plain": [
              "<keras.src.callbacks.History at 0x7e4760a26c20>"
            ]
          },
          "metadata": {},
          "execution_count": 150
        }
      ]
    },
    {
      "cell_type": "code",
      "source": [
        "x_train = x_train / 255\n",
        "x_test = x_test / 255"
      ],
      "metadata": {
        "id": "crpy6AWzWoEN"
      },
      "execution_count": 151,
      "outputs": []
    },
    {
      "cell_type": "code",
      "source": [
        "model.fit(x_train,y_train, epochs=5) # this time is better and reached to 92%"
      ],
      "metadata": {
        "colab": {
          "base_uri": "https://localhost:8080/"
        },
        "id": "59TNPLagWoB3",
        "outputId": "93d8158f-2488-4497-cd09-1dc485deff83"
      },
      "execution_count": 152,
      "outputs": [
        {
          "output_type": "stream",
          "name": "stdout",
          "text": [
            "Epoch 1/5\n",
            "1875/1875 [==============================] - 4s 2ms/step - loss: 0.8747 - accuracy: 0.7142\n",
            "Epoch 2/5\n",
            "1875/1875 [==============================] - 3s 2ms/step - loss: 0.4236 - accuracy: 0.8786\n",
            "Epoch 3/5\n",
            "1875/1875 [==============================] - 4s 2ms/step - loss: 0.3449 - accuracy: 0.9001\n",
            "Epoch 4/5\n",
            "1875/1875 [==============================] - 4s 2ms/step - loss: 0.3103 - accuracy: 0.9103\n",
            "Epoch 5/5\n",
            "1875/1875 [==============================] - 3s 2ms/step - loss: 0.2895 - accuracy: 0.9163\n"
          ]
        },
        {
          "output_type": "execute_result",
          "data": {
            "text/plain": [
              "<keras.src.callbacks.History at 0x7e476191b400>"
            ]
          },
          "metadata": {},
          "execution_count": 152
        }
      ]
    },
    {
      "cell_type": "code",
      "source": [
        "# let's evaluate the model on the test data\n",
        "model.evaluate(x_test,y_test) # evaluation accuracy is 92% which  is good, that means our model is not overfitted"
      ],
      "metadata": {
        "colab": {
          "base_uri": "https://localhost:8080/"
        },
        "id": "g1qBRtfXhs9r",
        "outputId": "24ac64bd-f21d-48ba-f801-806dc6bcefe1"
      },
      "execution_count": 153,
      "outputs": [
        {
          "output_type": "stream",
          "name": "stdout",
          "text": [
            "313/313 [==============================] - 1s 2ms/step - loss: 0.2747 - accuracy: 0.9183\n"
          ]
        },
        {
          "output_type": "execute_result",
          "data": {
            "text/plain": [
              "[0.27473798394203186, 0.9182999730110168]"
            ]
          },
          "metadata": {},
          "execution_count": 153
        }
      ]
    },
    {
      "cell_type": "code",
      "source": [
        "y_train[:5] # here we show the first 5 numbers in the ground truth and we can see that at the first position it is 5"
      ],
      "metadata": {
        "colab": {
          "base_uri": "https://localhost:8080/"
        },
        "id": "R3lpGXrLih3Q",
        "outputId": "ecc59b60-a2b9-48f9-bf38-ee2bfc3eaa5d"
      },
      "execution_count": 154,
      "outputs": [
        {
          "output_type": "execute_result",
          "data": {
            "text/plain": [
              "array([5, 0, 4, 1, 9], dtype=uint8)"
            ]
          },
          "metadata": {},
          "execution_count": 154
        }
      ]
    },
    {
      "cell_type": "code",
      "source": [
        "plt.matshow(x_train[0]) # Now, let's see what we get at the position in the input data, we got the 5"
      ],
      "metadata": {
        "colab": {
          "base_uri": "https://localhost:8080/",
          "height": 454
        },
        "id": "tP6oMNTFjiv4",
        "outputId": "33f175aa-1105-46b5-b730-62b3f709bd40"
      },
      "execution_count": 155,
      "outputs": [
        {
          "output_type": "execute_result",
          "data": {
            "text/plain": [
              "<matplotlib.image.AxesImage at 0x7e4760b58160>"
            ]
          },
          "metadata": {},
          "execution_count": 155
        },
        {
          "output_type": "display_data",
          "data": {
            "text/plain": [
              "<Figure size 480x480 with 1 Axes>"
            ],
            "image/png": "[encoded data removed]"
          },
          "metadata": {}
        }
      ]
    },
    {
      "cell_type": "code",
      "source": [
        "# now let's see how does our model predict on the test data\n",
        "y_pred = model.predict(x_test)"
      ],
      "metadata": {
        "colab": {
          "base_uri": "https://localhost:8080/"
        },
        "id": "B93_c8CNkXm3",
        "outputId": "b377a271-3004-4aad-f68b-a4f7341e9702"
      },
      "execution_count": 156,
      "outputs": [
        {
          "output_type": "stream",
          "name": "stdout",
          "text": [
            "313/313 [==============================] - 0s 1ms/step\n"
          ]
        }
      ]
    },
    {
      "cell_type": "code",
      "source": [
        "y_pred[:1]\n",
        "# the output shows the value of 10 scores, in the Sequential function we had given value 10, which means that it it what that what is the probability\n",
        "# to be 1 ,2 ,3, ....10 , highest the probaility value better the result"
      ],
      "metadata": {
        "colab": {
          "base_uri": "https://localhost:8080/"
        },
        "id": "POJfCygLk5qb",
        "outputId": "05e99034-2b1d-40fd-cc1a-0a94c5e679b1"
      },
      "execution_count": 157,
      "outputs": [
        {
          "output_type": "execute_result",
          "data": {
            "text/plain": [
              "array([[2.3344479e-07, 4.7022968e-09, 1.7994311e-05, 1.3958736e-04,\n",
              "        2.3720068e-09, 5.9733588e-07, 1.2921965e-12, 2.3610157e-01,\n",
              "        1.3807045e-07, 8.3389656e-05]], dtype=float32)"
            ]
          },
          "metadata": {},
          "execution_count": 157
        }
      ]
    },
    {
      "cell_type": "code",
      "source": [
        "np.argmax(y_pred[:1]) # wow it says that the highest probability to be 7"
      ],
      "metadata": {
        "colab": {
          "base_uri": "https://localhost:8080/"
        },
        "id": "hKxKaQzIm37c",
        "outputId": "c9c71c4b-93fd-4d39-d8bd-c025830fbd9d"
      },
      "execution_count": 158,
      "outputs": [
        {
          "output_type": "execute_result",
          "data": {
            "text/plain": [
              "7"
            ]
          },
          "metadata": {},
          "execution_count": 158
        }
      ]
    },
    {
      "cell_type": "code",
      "source": [
        "y_test[:1] # it is 7"
      ],
      "metadata": {
        "colab": {
          "base_uri": "https://localhost:8080/"
        },
        "id": "m_7Rg1kRlmLA",
        "outputId": "aa9f69ae-9f6d-48a2-b439-4988c85752db"
      },
      "execution_count": 159,
      "outputs": [
        {
          "output_type": "execute_result",
          "data": {
            "text/plain": [
              "array([7], dtype=uint8)"
            ]
          },
          "metadata": {},
          "execution_count": 159
        }
      ]
    },
    {
      "cell_type": "code",
      "source": [
        "plt.matshow(x_test[0]) # Now, let's see what we get at the position in the input data, we got the 7"
      ],
      "metadata": {
        "colab": {
          "base_uri": "https://localhost:8080/",
          "height": 454
        },
        "id": "kiDDO4PNlqkh",
        "outputId": "035f7d0e-2c75-4ddf-e99f-e571c8255f53"
      },
      "execution_count": 160,
      "outputs": [
        {
          "output_type": "execute_result",
          "data": {
            "text/plain": [
              "<matplotlib.image.AxesImage at 0x7e4761696a70>"
            ]
          },
          "metadata": {},
          "execution_count": 160
        },
        {
          "output_type": "display_data",
          "data": {
            "text/plain": [
              "<Figure size 480x480 with 1 Axes>"
            ],
            "image/png": "[encoded data removed]"
          },
          "metadata": {}
        }
      ]
    },
    {
      "cell_type": "code",
      "source": [
        "y_pred_lab = [np.argmax(i) for i in y_pred]"
      ],
      "metadata": {
        "id": "KxOuQ3MFn5du"
      },
      "execution_count": 161,
      "outputs": []
    },
    {
      "cell_type": "code",
      "source": [
        "# y_pred_lab[0]"
      ],
      "metadata": {
        "id": "ls8fkROioyOp"
      },
      "execution_count": 162,
      "outputs": []
    },
    {
      "cell_type": "code",
      "source": [
        "# let's ee how does it look like in the confuson matrix\n",
        "# reference https://www.tensorflow.org/api_docs/python/tf/math/confusion_matrix\n",
        "conf_matrix = tf.math.confusion_matrix(labels = y_test, predictions = y_pred_lab)"
      ],
      "metadata": {
        "id": "adPS1vgMWn_L"
      },
      "execution_count": 163,
      "outputs": []
    },
    {
      "cell_type": "code",
      "source": [],
      "metadata": {
        "colab": {
          "base_uri": "https://localhost:8080/"
        },
        "id": "QvDw6odLvpY6",
        "outputId": "d0cf4226-56f4-4ed1-f98c-43dabaa27247"
      },
      "execution_count": 164,
      "outputs": [
        {
          "output_type": "execute_result",
          "data": {
            "text/plain": [
              "<tf.Tensor: shape=(10, 10), dtype=int32, numpy=\n",
              "array([[ 950,    0,    3,    1,    2,    6,   12,    3,    3,    0],\n",
              "       [   0, 1116,    4,    3,    1,    1,    4,    2,    4,    0],\n",
              "       [   8,    7,  920,   27,   11,    1,   11,   10,   27,   10],\n",
              "       [   1,    1,   21,  927,    1,   22,    1,   13,   17,    6],\n",
              "       [   1,    2,    2,    0,  918,    0,    7,    6,    2,   44],\n",
              "       [   9,    4,    3,   54,   18,  745,   12,   13,   25,    9],\n",
              "       [   9,    3,    6,    1,   14,   14,  906,    4,    1,    0],\n",
              "       [   0,    7,   22,    7,    6,    1,    1,  959,    0,   25],\n",
              "       [   4,   12,    7,   31,   16,   27,   11,   12,  834,   20],\n",
              "       [   8,    6,    1,   12,   44,    7,    0,   22,    1,  908]],\n",
              "      dtype=int32)>"
            ]
          },
          "metadata": {},
          "execution_count": 164
        }
      ]
    },
    {
      "cell_type": "code",
      "source": [
        "# confusion matrix plot\n",
        "f, ax = plt.subplots(figsize=(10, 10))\n",
        "sns.heatmap(conf_matrix, annot=True, fmt='g', ax=ax)  # fmt='g' gives green color\n",
        "ax.set_xlabel('Predicted value')\n",
        "ax.set_ylabel('Ground Truth')\n",
        "ax.set_title('Confusion matrix')\n",
        "plt.show()\n",
        "# here we can see that model has predicted 954 time 0 and the ground truth is also 0. However,\n",
        "#there are 10 ocasion when ground truth was 2 and the predicted value was 0\n",
        "# So, the conclusion is, any values which does not fall in the diagonal is the error"
      ],
      "metadata": {
        "colab": {
          "base_uri": "https://localhost:8080/",
          "height": 872
        },
        "id": "c551JovXhKAs",
        "outputId": "1328a6af-44bc-4889-b50d-b94ce8d4f68e"
      },
      "execution_count": 166,
      "outputs": [
        {
          "output_type": "display_data",
          "data": {
            "text/plain": [
              "<Figure size 1000x1000 with 2 Axes>"
            ],
            "image/png": "[encoded data removed]"
          },
          "metadata": {}
        }
      ]
    },
    {
      "cell_type": "code",
      "source": [],
      "metadata": {
        "id": "r1uGyWYnhJ-u"
      },
      "execution_count": 165,
      "outputs": []
    },
    {
      "cell_type": "code",
      "source": [],
      "metadata": {
        "id": "FjG7tLdghJ7s"
      },
      "execution_count": 165,
      "outputs": []
    }
  ]
}